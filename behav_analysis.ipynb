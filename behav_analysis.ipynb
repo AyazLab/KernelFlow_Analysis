{
 "cells": [
  {
   "cell_type": "code",
   "execution_count": 33,
   "metadata": {},
   "outputs": [],
   "source": [
    "from behav_analysis import create_behav_results_tables, Participant_Behav"
   ]
  },
  {
   "cell_type": "code",
   "execution_count": 34,
   "metadata": {},
   "outputs": [],
   "source": [
    "num_pars = 13\n",
    "create_behav_results_tables(num_pars=num_pars)"
   ]
  },
  {
   "cell_type": "code",
   "execution_count": 35,
   "metadata": {},
   "outputs": [
    {
     "name": "stdout",
     "output_type": "stream",
     "text": [
      "Audio narrative response:\n",
      " The story begins with Jim, a journalist for the Ram student newspaper. Jim approaches the dean of Fordham asking about equality or something. The dean calls jim a punk and tells him to leave, Out of the corner of his eye, Jim sees a student run up, and throw a creaM pie into the face of the dean before running off. Jim asks the dean to comment on the cream pie, which the dean replies, Fuck Off. Jim runs back to the news room and tells his future polizter prize winning editor, who is a big guy, about the story. Editor calls the dean a dick and prints the story on the first page. While writing, Jim\n",
      "\n",
      "Video narrative (CMIYC) response:\n",
      " The clip opens with three similar loking men all claiming to be con man, frank abignail. The narrator then explains that frank pretended to be a pilot, work at a hospital, and go into law all fredelaently before his 19th birthday. he cashed fake checks in 26 countries and all 50 states. When he is caught he is in a french prison and has a serious sickness. the cop played by tom hanks does not be the cop explains that he beeds a doctor becasue he is to be flown back to the usa in the morning. the french doctor is not available until the next day. frank runs out of the room in an escape attempt and is cheered on by other prisoners\n",
      "\n",
      "Video narrative (Sherlock) response:\n",
      "the clip begins with john watson walking with a cane in a park when he walks past an old friend of his named mike.mike says hi and reintroduces himself but john alsready knows him. the two get coffee and sit on a bench where john explains that he just got home from milotary service and was shot. he also tells mike he cant afford to live in london. mike says thats the second time hes heard someone say that to him today. cut to a body bag being opened and sherlock is introduced. he asks how fresh the body is,. the female assistant says very fresh and that the dead man was her coworker abd he was nnice. sherlock then asks for a riding crop and procedes to smack the shit out of the body much to the assitants confusion. she \n",
      "\n",
      "Go/No-Go:\n",
      "'Go blocks' correct responses: 40/40\n",
      "'Go blocks' avg response time: 0.412 seconds\n",
      "'Go/No-Go blocks' correct responses: 39/40\n",
      "'Go/No-Go blocks' avg response time: 0.489 seconds\n",
      "\n",
      "N-Back:\n",
      "'Zero-back blocks' correct responses: 51/60\n",
      "'Zero-back blocks' avg response time: 0.479 seconds\n",
      "'One-back blocks' correct responses: 48/60\n",
      "'One-back blocks' avg response time: 0.709 seconds\n",
      "'Two-back blocks' correct responses: 51/60\n",
      "'Two-back blocks' avg response time: 0.509 seconds\n",
      "\n",
      "Tower of London:\n",
      "'Multi-move blocks' correct responses: 18/18\n",
      "'Multi-move blocks' avg response time: 0.844 seconds\n",
      "'Zero-move blocks' correct responses: 18/18\n",
      "'Zero-move blocks' avg response time: 0.609 seconds\n",
      "\n",
      "vSAT:\n",
      "'SAT blocks' correct responses: 52/60\n",
      "'SAT blocks' avg response time: 0.492 seconds\n",
      "'vSAT blocks' correct responses: 56/60\n",
      "'vSAT blocks' avg response time: 0.484 seconds\n"
     ]
    }
   ],
   "source": [
    "# Example\n",
    "par_num = \"08\"\n",
    "par = Participant_Behav(par_num=par_num)\n",
    "\n",
    "print(\"Audio narrative response:\")\n",
    "print(par.audio_narrative.response)\n",
    "print(\"\\nVideo narrative (CMIYC) response:\")\n",
    "print(par.video_narrative_cmiyc.response)\n",
    "print(\"\\nVideo narrative (Sherlock) response:\")\n",
    "print(par.video_narrative_sherlock.response)\n",
    "\n",
    "print(\"\\nGo/No-Go:\")\n",
    "print(\"'Go blocks' correct responses:\", f\"{par.go_no_go.total_corr_go}/{par.go_no_go.num_trials*2}\")\n",
    "print(\"'Go blocks' avg response time:\", f\"{round(par.go_no_go.avg_resp_time_go, 3)} seconds\")\n",
    "print(\"'Go/No-Go blocks' correct responses:\", f\"{par.go_no_go.total_corr_gng}/{par.go_no_go.num_trials*2}\")\n",
    "print(\"'Go/No-Go blocks' avg response time:\", f\"{round(par.go_no_go.avg_resp_time_gng, 3)} seconds\")\n",
    "\n",
    "print(\"\\nN-Back:\")\n",
    "print(\"'Zero-back blocks' correct responses:\", f\"{par.n_back.total_corr_ZB}/{par.n_back.num_trials*3}\")\n",
    "print(\"'Zero-back blocks' avg response time:\", f\"{round(par.n_back.avg_resp_time_ZB, 3)} seconds\")\n",
    "print(\"'One-back blocks' correct responses:\", f\"{par.n_back.total_corr_OB}/{par.n_back.num_trials*3}\")\n",
    "print(\"'One-back blocks' avg response time:\", f\"{round(par.n_back.avg_resp_time_OB, 3)} seconds\")\n",
    "print(\"'Two-back blocks' correct responses:\", f\"{par.n_back.total_corr_TB}/{par.n_back.num_trials*3}\")\n",
    "print(\"'Two-back blocks' avg response time:\", f\"{round(par.n_back.avg_resp_time_TB, 3)} seconds\")\n",
    "\n",
    "print(\"\\nTower of London:\")\n",
    "print(\"'Multi-move blocks' correct responses:\", f\"{par.tower_of_london.total_corr_MM}/{par.tower_of_london.num_trials*3}\")\n",
    "print(\"'Multi-move blocks' avg response time:\", f\"{round(par.tower_of_london.avg_resp_time_MM, 3)} seconds\")\n",
    "print(\"'Zero-move blocks' correct responses:\", f\"{par.tower_of_london.total_corr_ZM}/{par.tower_of_london.num_trials*3}\")\n",
    "print(\"'Zero-move blocks' avg response time:\", f\"{round(par.tower_of_london.avg_resp_time_ZM, 3)} seconds\")\n",
    "\n",
    "print(\"\\nvSAT:\")\n",
    "print(\"'SAT blocks' correct responses:\", f\"{par.vSAT.total_corr_SAT}/{par.vSAT.num_trials*2}\")\n",
    "print(\"'SAT blocks' avg response time:\", f\"{round(par.vSAT.avg_resp_time_SAT, 3)} seconds\")\n",
    "print(\"'vSAT blocks' correct responses:\", f\"{par.vSAT.total_corr_vSAT}/{par.vSAT.num_trials*2}\")\n",
    "print(\"'vSAT blocks' avg response time:\", f\"{round(par.vSAT.avg_resp_time_vSAT, 3)} seconds\")"
   ]
  },
  {
   "cell_type": "code",
   "execution_count": null,
   "metadata": {},
   "outputs": [],
   "source": []
  }
 ],
 "metadata": {
  "kernelspec": {
   "display_name": "Python 3.9.12 ('base')",
   "language": "python",
   "name": "python3"
  },
  "language_info": {
   "codemirror_mode": {
    "name": "ipython",
    "version": 3
   },
   "file_extension": ".py",
   "mimetype": "text/x-python",
   "name": "python",
   "nbconvert_exporter": "python",
   "pygments_lexer": "ipython3",
   "version": "3.9.12"
  },
  "orig_nbformat": 4,
  "vscode": {
   "interpreter": {
    "hash": "6dc7c3b5b3ed8bccdeb6381f95d0763ef1bb082ae76d136fc0c3d4673d6eca8b"
   }
  }
 },
 "nbformat": 4,
 "nbformat_minor": 2
}
