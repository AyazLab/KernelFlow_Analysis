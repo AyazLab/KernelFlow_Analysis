{
 "cells": [
  {
   "cell_type": "code",
   "execution_count": 8,
   "metadata": {},
   "outputs": [],
   "source": [
    "import os\n",
    "import datetime\n",
    "import pandas as pd\n",
    "import numpy as np\n",
    "import matplotlib.pyplot as plt\n",
    "import matplotlib.dates as mdates\n",
    "from behav_analysis import Data_Functions, Participant_Behav\n",
    "    \n",
    "class Participant_Watch():\n",
    "    def __init__(self, par_num):\n",
    "        self.data_fun = Data_Functions()\n",
    "        self.par_num = par_num\n",
    "        self.par_ID = f\"participant_{self.par_num}\"\n",
    "        self.par_dir = os.path.join(os.getcwd(), \"participants\", self.par_ID)\n",
    "        self.par_behav = Participant_Behav(par_num=self.par_num)\n",
    "        self.exp_order = self.par_behav.exp_order\n",
    "        self._dir_list = self._get_data_dirs()\n",
    "        \n",
    "        self.modalities = [\"ACC\", \"BVP\", \"EDA\", \"HR\", \"IBI\", \"TEMP\"]\n",
    "        self.modality_df_dict = self._create_modality_df_dict()\n",
    "        self.marker_ts_df = self.par_behav.marker_ts_df\n",
    "        self.exp_modality_data_dict = self._create_exp_modality_dict()\n",
    "\n",
    "    def _get_data_dirs(self):\n",
    "        watch_dir = os.path.join(self.par_dir, \"watch_data\")\n",
    "        dir_list = []\n",
    "        for dir_name in os.listdir(watch_dir):\n",
    "            dir_list.append(os.path.join(watch_dir, dir_name))\n",
    "\n",
    "        return dir_list\n",
    "\n",
    "    def _create_modality_df(self, modality):\n",
    "        df_list = []\n",
    "        for watch_dir in self._dir_list:\n",
    "            filepath = os.path.join(watch_dir, modality + \".csv\")\n",
    "            temp_df = pd.read_csv(filepath)\n",
    "            initial_ts = int(float(temp_df.columns[0]))\n",
    "            if modality != \"IBI\":\n",
    "                samp_freq = int(temp_df.iloc[0][0])\n",
    "                ts_col = pd.Series([initial_ts + i/samp_freq for i in range(temp_df.size)])\n",
    "                dt_col = pd.Series([datetime.datetime.fromtimestamp(ts) for ts in ts_col])\n",
    "                temp_df = temp_df[1:]\n",
    "                temp_df.insert(loc=0, column=\"timestamps\", value=ts_col)\n",
    "                temp_df.insert(loc=1, column=\"datetime\", value=dt_col)\n",
    "\n",
    "                if modality == \"ACC\":\n",
    "                    temp_df.rename(columns={temp_df.columns[2]: \"accel_x\", temp_df.columns[3]: \"accel_y\", temp_df.columns[4]: \"accel_z\"}, inplace=True)\n",
    "                    temp_df[\"accel_x\"] = temp_df[\"accel_x\"]/64\n",
    "                    temp_df[\"accel_y\"] = temp_df[\"accel_y\"]/64\n",
    "                    temp_df[\"accel_z\"] = temp_df[\"accel_z\"]/64\n",
    "                elif modality == \"BVP\" or modality == \"EDA\" or modality == \"HR\":\n",
    "                    temp_df.rename(columns={temp_df.columns[2]: modality}, inplace=True)    \n",
    "                elif modality == \"TEMP\":\n",
    "                    temp_df.rename(columns={temp_df.columns[2]: \"TEMP_C\"}, inplace=True)\n",
    "                    temp_F_col = pd.Series([self.data_fun.c_to_f(temp_C) for temp_C in temp_df[\"TEMP_C\"]])\n",
    "                    temp_df = temp_df.drop(columns=\"TEMP_C\")\n",
    "                    temp_df.insert(loc=2, column=\"TEMP\", value=temp_F_col)\n",
    "            elif modality == \"IBI\":\n",
    "                ts_col = temp_df.iloc[:, 0] + initial_ts\n",
    "                dt_col = pd.Series([datetime.datetime.fromtimestamp(ts) for ts in ts_col])\n",
    "                temp_df.insert(loc=0, column=\"timestamps\", value=ts_col)\n",
    "                temp_df.insert(loc=1, column=\"datetime\", value=dt_col)\n",
    "                temp_df = temp_df.drop(columns=temp_df.columns[2])\n",
    "                temp_df.rename(columns={temp_df.columns[2]: modality}, inplace=True)    \n",
    "            df_list.append(temp_df)\n",
    "        df = pd.concat(df_list, axis=0)\n",
    "        df.reset_index(inplace=True, drop=True)\n",
    "\n",
    "        return df\n",
    "\n",
    "    def _create_modality_df_dict(self):\n",
    "        modality_df_dict = {}\n",
    "        for modality in self.modalities:\n",
    "            modality_df_dict[modality] = self._create_modality_df(modality)\n",
    "        \n",
    "        return modality_df_dict\n",
    "\n",
    "    def _create_exp_modality_dict(self):\n",
    "        def _add_block_col(exp_name, modality, df):\n",
    "            exp = self.par_behav.get_exp(exp_name=exp_name)\n",
    "            num_blocks = exp.num_blocks\n",
    "            num_rows = df.shape[0]\n",
    "            df = df.reset_index()\n",
    "            col_list = []\n",
    "            \n",
    "            if exp_name == \"audio_narrative\" or exp_name == \"video_narrative_cmiyc\" or exp_name == \"video_narrative_sherlock\":\n",
    "                for ts_tuple, block in self.par_behav.by_block_ts_df[exp_name].items():\n",
    "                    start_ts = ts_tuple[0]\n",
    "                    end_ts =  ts_tuple[1]\n",
    "                    print(exp_name, modality)\n",
    "                    block_start_idx = self.data_fun.get_start_index_ts(df, start_ts)\n",
    "                    block_end_idx = self.data_fun.get_end_index_ts(df, end_ts)\n",
    "                    col_list.append(self.data_fun.create_col(None, block_start_idx))\n",
    "                    col_list.append(self.data_fun.create_col(block, block_end_idx-block_start_idx))\n",
    "                    col_list.append(self.data_fun.create_col(None, num_rows-block_end_idx))\n",
    "            elif exp_name == \"resting_state\":\n",
    "                for i, (ts_tuple, block) in enumerate(self.par_behav.by_block_ts_df[exp_name].items()):\n",
    "                    start_ts = ts_tuple[0]\n",
    "                    end_ts =  ts_tuple[1]\n",
    "                    block_start_idx = self.data_fun.get_start_index_ts(df, start_ts)\n",
    "                    block_end_idx = self.data_fun.get_end_index_ts(df, end_ts)\n",
    "                    if i == 0:\n",
    "                        col_list.append(self.data_fun.create_col(None, block_start_idx))\n",
    "                        col_list.append(self.data_fun.create_col(block, block_end_idx-block_start_idx))\n",
    "                    elif i == num_blocks-1:\n",
    "                        col_list.append(self.data_fun.create_col(block, block_end_idx-block_start_idx))\n",
    "                        col_list.append(self.data_fun.create_col(None, num_rows-block_end_idx))\n",
    "            elif exp_name == \"go_no_go\" or exp_name == \"king_devick\" or exp_name == \"n_back\" or exp_name == \"tower_of_london\" or exp_name == \"vSAT\":\n",
    "                for i, (ts_tuple, block) in enumerate(self.par_behav.by_block_ts_df[exp_name].items()):\n",
    "                    start_ts = ts_tuple[0]\n",
    "                    end_ts =  ts_tuple[1]\n",
    "                    block_start_idx = self.data_fun.get_start_index_ts(df, start_ts)\n",
    "                    block_end_idx = self.data_fun.get_end_index_ts(df, end_ts)\n",
    "                    if i == 0:\n",
    "                        col_list.append(self.data_fun.create_col(None, block_start_idx))\n",
    "                        col_list.append(self.data_fun.create_col(block, block_end_idx-block_start_idx))\n",
    "                    elif i == exp.num_blocks-1:\n",
    "                        col_list.append(self.data_fun.create_col(block, block_end_idx-block_start_idx))\n",
    "                        col_list.append(self.data_fun.create_col(None, num_rows-block_end_idx))\n",
    "                    else:\n",
    "                        col_list.append(self.data_fun.create_col(block, block_end_idx-block_start_idx))\n",
    "            block_col = pd.concat(col_list, axis=0, ignore_index=True)\n",
    "            df.insert(0, \"block\", block_col)\n",
    "\n",
    "            return df\n",
    "\n",
    "        exp_modality_dict = {}\n",
    "        for exp_name in self.exp_order:\n",
    "            start_dt, end_dt = self.data_fun.get_exp_dt(self.marker_ts_df, exp_name=exp_name)\n",
    "            exp_modality_data_dict = {} \n",
    "            for modality, df in self.modality_df_dict.items():\n",
    "                start_idx = self.data_fun.get_start_index_dt(df=self.modality_df_dict[modality], start_dt=start_dt)\n",
    "                end_idx = self.data_fun.get_end_index_dt(df=self.modality_df_dict[modality], end_dt=end_dt)\n",
    "                modality_df_temp = self.modality_df_dict[modality].iloc[start_idx:end_idx]\n",
    "                modality_df = _add_block_col(exp_name=exp_name, modality=modality, df=modality_df_temp)\n",
    "                exp_modality_data_dict[modality] = modality_df\n",
    "            exp_modality_dict[exp_name] = exp_modality_data_dict\n",
    "\n",
    "        return exp_modality_dict\n",
    "\n",
    "    def _plot_exp_regions(self, ax):\n",
    "        for exp_name in self.exp_order:\n",
    "            start_dt, end_dt = self.data_fun.get_exp_dt(self.marker_ts_df, exp_name=exp_name)\n",
    "            ax.axvline(start_dt, linestyle=\"dashed\", color=\"k\", alpha=0.75)\n",
    "            ax.axvline(end_dt, linestyle=\"dashed\", color=\"k\", alpha=0.75)\n",
    "            if exp_name == \"audio_narrative\":\n",
    "                ax.axvspan(start_dt, end_dt, color=\"yellow\", alpha=0.4, label=\"Audio Narrative\")\n",
    "            elif exp_name == \"go_no_go\":\n",
    "                ax.axvspan(start_dt, end_dt, color=\"green\", alpha=0.4, label=\"Go//No-Go\")\n",
    "            elif exp_name == \"king_devick\":\n",
    "                ax.axvspan(start_dt, end_dt, color=\"blue\", alpha=0.4, label=\"King Devick\")\n",
    "            elif exp_name == \"n_back\":\n",
    "                ax.axvspan(start_dt, end_dt, color=\"purple\", alpha=0.4, label=\"N-back\")\n",
    "            elif exp_name == \"resting_state\":\n",
    "                ax.axvspan(start_dt, end_dt, color=\"pink\", alpha=0.4, label=\"Resting State\")\n",
    "            elif exp_name == \"tower_of_london\":\n",
    "                ax.axvspan(start_dt, end_dt, color=\"orange\", alpha=0.4, label=\"Tower of London\")\n",
    "            elif exp_name == \"video_narrative_cmiyc\":\n",
    "                ax.axvspan(start_dt, end_dt, color=\"red\", alpha=0.4, label=\"Video Narrative CMIYC\")\n",
    "            elif exp_name == \"video_narrative_sherlock\":\n",
    "                ax.axvspan(start_dt, end_dt, color=\"olive\", alpha=0.4, label=\"Video Narrative Sherlock\")\n",
    "            elif exp_name == \"vSAT\":\n",
    "                ax.axvspan(start_dt, end_dt, color=\"cyan\", alpha=0.4, label=\"vSAT\")\n",
    "\n",
    "    def plot_modality(self, modality):\n",
    "        datetime_fmt = mdates.DateFormatter('%H:%M:%S')\n",
    "        modality_df = self.modality_df_dict[modality]\n",
    "        fig, ax = plt.subplots(1, 1, figsize=(15, 6))\n",
    "        \n",
    "        if modality == \"ACC\":\n",
    "            ax.plot(modality_df[\"datetime\"], modality_df[\"accel_x\"], color=\"black\")\n",
    "            ax.plot(modality_df[\"datetime\"], modality_df[\"accel_y\"], color=\"darkslategray\")\n",
    "            ax.plot(modality_df[\"datetime\"], modality_df[\"accel_z\"], color=\"darkblue\")\n",
    "            ax.set_ylabel(\"Acceleration (g)\", fontsize=16, color=\"k\")\n",
    "            ax.set_title(\"Acceleration\", fontsize=20, color=\"k\")\n",
    "        elif modality == \"BVP\":\n",
    "            ax.plot(modality_df[\"datetime\"], modality_df[\"BVP\"], color=\"k\")\n",
    "            ax.set_ylabel(\"BVP\", fontsize=16, color=\"k\")\n",
    "            ax.set_title(\"Photoplethysmograph\", fontsize=20, color=\"k\")\n",
    "        elif modality == \"EDA\":\n",
    "            ax.plot(modality_df[\"datetime\"], modality_df[\"EDA\"], color=\"k\")\n",
    "            ax.set_ylabel(\"EDA (μS)\", fontsize=16, color=\"k\")\n",
    "            ax.set_title(\"Electrodermal\", fontsize=20, color=\"k\")\n",
    "        elif modality == \"HR\":\n",
    "            ax.plot(modality_df[\"datetime\"], modality_df[\"HR\"], color=\"k\")\n",
    "            ax.set_ylabel(\"Heart Rate (BPM)\", fontsize=16, color=\"k\")\n",
    "            ax.set_title(\"Heart Rate\", fontsize=20, color=\"k\")\n",
    "        elif modality == \"IBI\":\n",
    "            ax.plot(modality_df[\"datetime\"], modality_df[\"IBI\"], color=\"k\")\n",
    "            ax.set_ylabel(\"Interbeat Interval (seconds)\", fontsize=16, color=\"k\")\n",
    "            ax.set_title(\"Heart Rate Variability\", fontsize=20, color=\"k\")\n",
    "        elif modality == \"TEMP\":\n",
    "            ax.plot(modality_df[\"datetime\"], modality_df[\"TEMP\"], color=\"k\")\n",
    "            ax.set_ylabel(\"Temperature (F)\", fontsize=16, color=\"k\")\n",
    "            ax.set_title(\"Temperature\", fontsize=20, color=\"k\")\n",
    "\n",
    "        ax.set_xlabel(\"Time\", fontsize=16, color=\"k\")\n",
    "        ax.xaxis.set_major_formatter(datetime_fmt)\n",
    "        self._plot_exp_regions(ax=ax)\n",
    "        ax.legend(bbox_to_anchor=(1.0, 0.75), facecolor='white', framealpha=1)\n",
    "\n",
    "def create_watch_results_tables(num_pars):\n",
    "    def _create_df(par_list, exp_name, modality):\n",
    "        temp_df_list = []\n",
    "        for par in par_list:\n",
    "            temp_df = pd.DataFrame()\n",
    "            temp_df[modality] = par.exp_modality_data_dict[exp_name][modality][modality]\n",
    "            temp_df.reset_index(inplace=True, drop=True)\n",
    "            par_num_col = par.data_fun.create_col(par.par_num, num_rows=temp_df.shape[0])\n",
    "            temp_df.insert(loc=0, column=\"participant\", value=par_num_col)\n",
    "            temp_df_list.append(temp_df)\n",
    "        df = pd.concat(temp_df_list, axis=0)\n",
    "        df.reset_index(inplace=True, drop=True)\n",
    "        return df\n",
    "\n",
    "    def _data_to_excel(exp_name, data_dict):\n",
    "        filepath = os.path.join(os.getcwd(), \"results/watch\", f\"{exp_name}_watch.xlsx\")\n",
    "        with pd.ExcelWriter(filepath, engine='xlsxwriter') as writer:\n",
    "            for modality, df in data_dict.items():\n",
    "                df.to_excel(writer, sheet_name=modality, index=False)\n",
    "\n",
    "    par_list = []                \n",
    "    for i in range(num_pars):\n",
    "        par_num = f\"{(i+1):02d}\"\n",
    "        print(par_num)\n",
    "        par = Participant_Watch(par_num=par_num)\n",
    "        par_list.append(par)\n",
    "\n",
    "    for exp_name in par.exp_order:\n",
    "        data_dict = {}\n",
    "        for modality in par.modalities: \n",
    "            if modality == \"ACC\":\n",
    "                temp_df_list = []\n",
    "                for par in par_list:\n",
    "                    temp_df = pd.DataFrame()\n",
    "                    temp_df[\"accel_x\"] = par.exp_modality_data_dict[exp_name][modality][\"accel_x\"]\n",
    "                    temp_df[\"accel_y\"] = par.exp_modality_data_dict[exp_name][modality][\"accel_y\"]\n",
    "                    temp_df[\"accel_z\"] = par.exp_modality_data_dict[exp_name][modality][\"accel_z\"]\n",
    "                    temp_df.reset_index(inplace=True, drop=True)\n",
    "                    par_num_col = par.data_fun.create_col(par.par_num, num_rows=temp_df.shape[0])\n",
    "                    temp_df.insert(0, \"participant\", par_num_col)\n",
    "                    temp_df_list.append(temp_df)\n",
    "                ACC_df = pd.concat(temp_df_list, axis=0)\n",
    "                ACC_df.reset_index(inplace=True, drop=True)\n",
    "                ACC_df.insert(0, \"block\", par.exp_modality_data_dict[exp_name][modality][\"block\"])\n",
    "                data_dict[modality] = ACC_df\n",
    "            elif modality == \"BVP\" or modality == \"EDA\" or modality == \"HR\" or modality == \"IBI\" or modality == \"TEMP\":\n",
    "                modality_df = _create_df(par_list, exp_name, modality)\n",
    "                modality_df.insert(0, \"block\", par.exp_modality_data_dict[exp_name][modality][\"block\"])\n",
    "                data_dict[modality] = modality_df\n",
    "\n",
    "        _data_to_excel(exp_name, data_dict)"
   ]
  },
  {
   "cell_type": "code",
   "execution_count": 4,
   "metadata": {},
   "outputs": [
    {
     "name": "stdout",
     "output_type": "stream",
     "text": [
      "01\n"
     ]
    },
    {
     "name": "stderr",
     "output_type": "stream",
     "text": [
      "c:\\Users\\zackg\\OneDrive\\Ayaz Lab\\KernelFlow_Analysis\\behav_analysis.py:628: SettingWithCopyWarning: \n",
      "A value is trying to be set on a copy of a slice from a DataFrame\n",
      "\n",
      "See the caveats in the documentation: https://pandas.pydata.org/pandas-docs/stable/user_guide/indexing.html#returning-a-view-versus-a-copy\n",
      "  self.df_simp.drop(columns=[\"x_pos\", \"y_pos\"], inplace=True)\n",
      "c:\\Users\\zackg\\OneDrive\\Ayaz Lab\\KernelFlow_Analysis\\behav_analysis.py:138: FutureWarning: The default dtype for empty Series will be 'object' instead of 'float64' in a future version. Specify a dtype explicitly to silence this warning.\n",
      "  return pd.Series([x]*num_rows)\n"
     ]
    },
    {
     "name": "stdout",
     "output_type": "stream",
     "text": [
      "02\n"
     ]
    },
    {
     "name": "stderr",
     "output_type": "stream",
     "text": [
      "c:\\Users\\zackg\\OneDrive\\Ayaz Lab\\KernelFlow_Analysis\\behav_analysis.py:628: SettingWithCopyWarning: \n",
      "A value is trying to be set on a copy of a slice from a DataFrame\n",
      "\n",
      "See the caveats in the documentation: https://pandas.pydata.org/pandas-docs/stable/user_guide/indexing.html#returning-a-view-versus-a-copy\n",
      "  self.df_simp.drop(columns=[\"x_pos\", \"y_pos\"], inplace=True)\n"
     ]
    },
    {
     "name": "stdout",
     "output_type": "stream",
     "text": [
      "03\n"
     ]
    },
    {
     "name": "stderr",
     "output_type": "stream",
     "text": [
      "c:\\Users\\zackg\\OneDrive\\Ayaz Lab\\KernelFlow_Analysis\\behav_analysis.py:628: SettingWithCopyWarning: \n",
      "A value is trying to be set on a copy of a slice from a DataFrame\n",
      "\n",
      "See the caveats in the documentation: https://pandas.pydata.org/pandas-docs/stable/user_guide/indexing.html#returning-a-view-versus-a-copy\n",
      "  self.df_simp.drop(columns=[\"x_pos\", \"y_pos\"], inplace=True)\n",
      "c:\\Users\\zackg\\OneDrive\\Ayaz Lab\\KernelFlow_Analysis\\behav_analysis.py:138: FutureWarning: The default dtype for empty Series will be 'object' instead of 'float64' in a future version. Specify a dtype explicitly to silence this warning.\n",
      "  return pd.Series([x]*num_rows)\n"
     ]
    },
    {
     "name": "stdout",
     "output_type": "stream",
     "text": [
      "04\n"
     ]
    },
    {
     "name": "stderr",
     "output_type": "stream",
     "text": [
      "c:\\Users\\zackg\\OneDrive\\Ayaz Lab\\KernelFlow_Analysis\\behav_analysis.py:628: SettingWithCopyWarning: \n",
      "A value is trying to be set on a copy of a slice from a DataFrame\n",
      "\n",
      "See the caveats in the documentation: https://pandas.pydata.org/pandas-docs/stable/user_guide/indexing.html#returning-a-view-versus-a-copy\n",
      "  self.df_simp.drop(columns=[\"x_pos\", \"y_pos\"], inplace=True)\n"
     ]
    },
    {
     "name": "stdout",
     "output_type": "stream",
     "text": [
      "05\n"
     ]
    },
    {
     "name": "stderr",
     "output_type": "stream",
     "text": [
      "c:\\Users\\zackg\\OneDrive\\Ayaz Lab\\KernelFlow_Analysis\\behav_analysis.py:628: SettingWithCopyWarning: \n",
      "A value is trying to be set on a copy of a slice from a DataFrame\n",
      "\n",
      "See the caveats in the documentation: https://pandas.pydata.org/pandas-docs/stable/user_guide/indexing.html#returning-a-view-versus-a-copy\n",
      "  self.df_simp.drop(columns=[\"x_pos\", \"y_pos\"], inplace=True)\n",
      "c:\\Users\\zackg\\OneDrive\\Ayaz Lab\\KernelFlow_Analysis\\behav_analysis.py:138: FutureWarning: The default dtype for empty Series will be 'object' instead of 'float64' in a future version. Specify a dtype explicitly to silence this warning.\n",
      "  return pd.Series([x]*num_rows)\n",
      "c:\\Users\\zackg\\OneDrive\\Ayaz Lab\\KernelFlow_Analysis\\behav_analysis.py:138: FutureWarning: The default dtype for empty Series will be 'object' instead of 'float64' in a future version. Specify a dtype explicitly to silence this warning.\n",
      "  return pd.Series([x]*num_rows)\n",
      "c:\\Users\\zackg\\OneDrive\\Ayaz Lab\\KernelFlow_Analysis\\behav_analysis.py:138: FutureWarning: The default dtype for empty Series will be 'object' instead of 'float64' in a future version. Specify a dtype explicitly to silence this warning.\n",
      "  return pd.Series([x]*num_rows)\n"
     ]
    },
    {
     "name": "stdout",
     "output_type": "stream",
     "text": [
      "06\n"
     ]
    },
    {
     "name": "stderr",
     "output_type": "stream",
     "text": [
      "c:\\Users\\zackg\\OneDrive\\Ayaz Lab\\KernelFlow_Analysis\\behav_analysis.py:628: SettingWithCopyWarning: \n",
      "A value is trying to be set on a copy of a slice from a DataFrame\n",
      "\n",
      "See the caveats in the documentation: https://pandas.pydata.org/pandas-docs/stable/user_guide/indexing.html#returning-a-view-versus-a-copy\n",
      "  self.df_simp.drop(columns=[\"x_pos\", \"y_pos\"], inplace=True)\n",
      "c:\\Users\\zackg\\OneDrive\\Ayaz Lab\\KernelFlow_Analysis\\behav_analysis.py:138: FutureWarning: The default dtype for empty Series will be 'object' instead of 'float64' in a future version. Specify a dtype explicitly to silence this warning.\n",
      "  return pd.Series([x]*num_rows)\n",
      "c:\\Users\\zackg\\OneDrive\\Ayaz Lab\\KernelFlow_Analysis\\behav_analysis.py:628: SettingWithCopyWarning: \n",
      "A value is trying to be set on a copy of a slice from a DataFrame\n",
      "\n",
      "See the caveats in the documentation: https://pandas.pydata.org/pandas-docs/stable/user_guide/indexing.html#returning-a-view-versus-a-copy\n",
      "  self.df_simp.drop(columns=[\"x_pos\", \"y_pos\"], inplace=True)\n"
     ]
    },
    {
     "name": "stdout",
     "output_type": "stream",
     "text": [
      "07\n",
      "08\n"
     ]
    },
    {
     "name": "stderr",
     "output_type": "stream",
     "text": [
      "c:\\Users\\zackg\\OneDrive\\Ayaz Lab\\KernelFlow_Analysis\\behav_analysis.py:628: SettingWithCopyWarning: \n",
      "A value is trying to be set on a copy of a slice from a DataFrame\n",
      "\n",
      "See the caveats in the documentation: https://pandas.pydata.org/pandas-docs/stable/user_guide/indexing.html#returning-a-view-versus-a-copy\n",
      "  self.df_simp.drop(columns=[\"x_pos\", \"y_pos\"], inplace=True)\n",
      "c:\\Users\\zackg\\OneDrive\\Ayaz Lab\\KernelFlow_Analysis\\behav_analysis.py:138: FutureWarning: The default dtype for empty Series will be 'object' instead of 'float64' in a future version. Specify a dtype explicitly to silence this warning.\n",
      "  return pd.Series([x]*num_rows)\n",
      "c:\\Users\\zackg\\OneDrive\\Ayaz Lab\\KernelFlow_Analysis\\behav_analysis.py:138: FutureWarning: The default dtype for empty Series will be 'object' instead of 'float64' in a future version. Specify a dtype explicitly to silence this warning.\n",
      "  return pd.Series([x]*num_rows)\n",
      "c:\\Users\\zackg\\OneDrive\\Ayaz Lab\\KernelFlow_Analysis\\behav_analysis.py:138: FutureWarning: The default dtype for empty Series will be 'object' instead of 'float64' in a future version. Specify a dtype explicitly to silence this warning.\n",
      "  return pd.Series([x]*num_rows)\n",
      "c:\\Users\\zackg\\OneDrive\\Ayaz Lab\\KernelFlow_Analysis\\behav_analysis.py:138: FutureWarning: The default dtype for empty Series will be 'object' instead of 'float64' in a future version. Specify a dtype explicitly to silence this warning.\n",
      "  return pd.Series([x]*num_rows)\n",
      "c:\\Users\\zackg\\OneDrive\\Ayaz Lab\\KernelFlow_Analysis\\behav_analysis.py:138: FutureWarning: The default dtype for empty Series will be 'object' instead of 'float64' in a future version. Specify a dtype explicitly to silence this warning.\n",
      "  return pd.Series([x]*num_rows)\n",
      "c:\\Users\\zackg\\OneDrive\\Ayaz Lab\\KernelFlow_Analysis\\behav_analysis.py:138: FutureWarning: The default dtype for empty Series will be 'object' instead of 'float64' in a future version. Specify a dtype explicitly to silence this warning.\n",
      "  return pd.Series([x]*num_rows)\n"
     ]
    },
    {
     "ename": "UnboundLocalError",
     "evalue": "local variable 'loc' referenced before assignment",
     "output_type": "error",
     "traceback": [
      "\u001b[1;31m---------------------------------------------------------------------------\u001b[0m",
      "\u001b[1;31mUnboundLocalError\u001b[0m                         Traceback (most recent call last)",
      "\u001b[1;32mc:\\Users\\zackg\\OneDrive\\Ayaz Lab\\KernelFlow_Analysis\\watch_analysis.ipynb Cell 2\u001b[0m in \u001b[0;36m<cell line: 2>\u001b[1;34m()\u001b[0m\n\u001b[0;32m      <a href='vscode-notebook-cell:/c%3A/Users/zackg/OneDrive/Ayaz%20Lab/KernelFlow_Analysis/watch_analysis.ipynb#W1sZmlsZQ%3D%3D?line=0'>1</a>\u001b[0m num_pars \u001b[39m=\u001b[39m \u001b[39m13\u001b[39m\n\u001b[1;32m----> <a href='vscode-notebook-cell:/c%3A/Users/zackg/OneDrive/Ayaz%20Lab/KernelFlow_Analysis/watch_analysis.ipynb#W1sZmlsZQ%3D%3D?line=1'>2</a>\u001b[0m create_watch_results_tables(num_pars\u001b[39m=\u001b[39;49mnum_pars)\n",
      "\u001b[1;32mc:\\Users\\zackg\\OneDrive\\Ayaz Lab\\KernelFlow_Analysis\\watch_analysis.ipynb Cell 2\u001b[0m in \u001b[0;36mcreate_watch_results_tables\u001b[1;34m(num_pars)\u001b[0m\n\u001b[0;32m    <a href='vscode-notebook-cell:/c%3A/Users/zackg/OneDrive/Ayaz%20Lab/KernelFlow_Analysis/watch_analysis.ipynb#W1sZmlsZQ%3D%3D?line=222'>223</a>\u001b[0m     par_num \u001b[39m=\u001b[39m \u001b[39mf\u001b[39m\u001b[39m\"\u001b[39m\u001b[39m{\u001b[39;00m(i\u001b[39m+\u001b[39m\u001b[39m1\u001b[39m)\u001b[39m:\u001b[39;00m\u001b[39m02d\u001b[39m\u001b[39m}\u001b[39;00m\u001b[39m\"\u001b[39m\n\u001b[0;32m    <a href='vscode-notebook-cell:/c%3A/Users/zackg/OneDrive/Ayaz%20Lab/KernelFlow_Analysis/watch_analysis.ipynb#W1sZmlsZQ%3D%3D?line=223'>224</a>\u001b[0m     \u001b[39mprint\u001b[39m(par_num)\n\u001b[1;32m--> <a href='vscode-notebook-cell:/c%3A/Users/zackg/OneDrive/Ayaz%20Lab/KernelFlow_Analysis/watch_analysis.ipynb#W1sZmlsZQ%3D%3D?line=224'>225</a>\u001b[0m     par \u001b[39m=\u001b[39m Participant_Watch(par_num\u001b[39m=\u001b[39;49mpar_num)\n\u001b[0;32m    <a href='vscode-notebook-cell:/c%3A/Users/zackg/OneDrive/Ayaz%20Lab/KernelFlow_Analysis/watch_analysis.ipynb#W1sZmlsZQ%3D%3D?line=225'>226</a>\u001b[0m     par_list\u001b[39m.\u001b[39mappend(par)\n\u001b[0;32m    <a href='vscode-notebook-cell:/c%3A/Users/zackg/OneDrive/Ayaz%20Lab/KernelFlow_Analysis/watch_analysis.ipynb#W1sZmlsZQ%3D%3D?line=227'>228</a>\u001b[0m \u001b[39mfor\u001b[39;00m exp_name \u001b[39min\u001b[39;00m par\u001b[39m.\u001b[39mexp_order:\n",
      "\u001b[1;32mc:\\Users\\zackg\\OneDrive\\Ayaz Lab\\KernelFlow_Analysis\\watch_analysis.ipynb Cell 2\u001b[0m in \u001b[0;36mParticipant_Watch.__init__\u001b[1;34m(self, par_num)\u001b[0m\n\u001b[0;32m     <a href='vscode-notebook-cell:/c%3A/Users/zackg/OneDrive/Ayaz%20Lab/KernelFlow_Analysis/watch_analysis.ipynb#W1sZmlsZQ%3D%3D?line=19'>20</a>\u001b[0m \u001b[39mself\u001b[39m\u001b[39m.\u001b[39mmodality_df_dict \u001b[39m=\u001b[39m \u001b[39mself\u001b[39m\u001b[39m.\u001b[39m_create_modality_df_dict()\n\u001b[0;32m     <a href='vscode-notebook-cell:/c%3A/Users/zackg/OneDrive/Ayaz%20Lab/KernelFlow_Analysis/watch_analysis.ipynb#W1sZmlsZQ%3D%3D?line=20'>21</a>\u001b[0m \u001b[39mself\u001b[39m\u001b[39m.\u001b[39mmarker_ts_df \u001b[39m=\u001b[39m \u001b[39mself\u001b[39m\u001b[39m.\u001b[39mpar_behav\u001b[39m.\u001b[39mmarker_ts_df\n\u001b[1;32m---> <a href='vscode-notebook-cell:/c%3A/Users/zackg/OneDrive/Ayaz%20Lab/KernelFlow_Analysis/watch_analysis.ipynb#W1sZmlsZQ%3D%3D?line=21'>22</a>\u001b[0m \u001b[39mself\u001b[39m\u001b[39m.\u001b[39mexp_modality_data_dict \u001b[39m=\u001b[39m \u001b[39mself\u001b[39;49m\u001b[39m.\u001b[39;49m_create_exp_modality_dict()\n",
      "\u001b[1;32mc:\\Users\\zackg\\OneDrive\\Ayaz Lab\\KernelFlow_Analysis\\watch_analysis.ipynb Cell 2\u001b[0m in \u001b[0;36mParticipant_Watch._create_exp_modality_dict\u001b[1;34m(self)\u001b[0m\n\u001b[0;32m    <a href='vscode-notebook-cell:/c%3A/Users/zackg/OneDrive/Ayaz%20Lab/KernelFlow_Analysis/watch_analysis.ipynb#W1sZmlsZQ%3D%3D?line=131'>132</a>\u001b[0m     end_idx \u001b[39m=\u001b[39m \u001b[39mself\u001b[39m\u001b[39m.\u001b[39mdata_fun\u001b[39m.\u001b[39mget_end_index_dt(df\u001b[39m=\u001b[39m\u001b[39mself\u001b[39m\u001b[39m.\u001b[39mmodality_df_dict[modality], end_dt\u001b[39m=\u001b[39mend_dt)\n\u001b[0;32m    <a href='vscode-notebook-cell:/c%3A/Users/zackg/OneDrive/Ayaz%20Lab/KernelFlow_Analysis/watch_analysis.ipynb#W1sZmlsZQ%3D%3D?line=132'>133</a>\u001b[0m     modality_df_temp \u001b[39m=\u001b[39m \u001b[39mself\u001b[39m\u001b[39m.\u001b[39mmodality_df_dict[modality]\u001b[39m.\u001b[39miloc[start_idx:end_idx]\n\u001b[1;32m--> <a href='vscode-notebook-cell:/c%3A/Users/zackg/OneDrive/Ayaz%20Lab/KernelFlow_Analysis/watch_analysis.ipynb#W1sZmlsZQ%3D%3D?line=133'>134</a>\u001b[0m     modality_df \u001b[39m=\u001b[39m _add_block_col(exp_name\u001b[39m=\u001b[39;49mexp_name, modality\u001b[39m=\u001b[39;49mmodality, df\u001b[39m=\u001b[39;49mmodality_df_temp)\n\u001b[0;32m    <a href='vscode-notebook-cell:/c%3A/Users/zackg/OneDrive/Ayaz%20Lab/KernelFlow_Analysis/watch_analysis.ipynb#W1sZmlsZQ%3D%3D?line=134'>135</a>\u001b[0m     exp_modality_data_dict[modality] \u001b[39m=\u001b[39m modality_df\n\u001b[0;32m    <a href='vscode-notebook-cell:/c%3A/Users/zackg/OneDrive/Ayaz%20Lab/KernelFlow_Analysis/watch_analysis.ipynb#W1sZmlsZQ%3D%3D?line=135'>136</a>\u001b[0m exp_modality_dict[exp_name] \u001b[39m=\u001b[39m exp_modality_data_dict\n",
      "\u001b[1;32mc:\\Users\\zackg\\OneDrive\\Ayaz Lab\\KernelFlow_Analysis\\watch_analysis.ipynb Cell 2\u001b[0m in \u001b[0;36mParticipant_Watch._create_exp_modality_dict.<locals>._add_block_col\u001b[1;34m(exp_name, modality, df)\u001b[0m\n\u001b[0;32m     <a href='vscode-notebook-cell:/c%3A/Users/zackg/OneDrive/Ayaz%20Lab/KernelFlow_Analysis/watch_analysis.ipynb#W1sZmlsZQ%3D%3D?line=87'>88</a>\u001b[0m start_ts \u001b[39m=\u001b[39m ts_tuple[\u001b[39m0\u001b[39m]\n\u001b[0;32m     <a href='vscode-notebook-cell:/c%3A/Users/zackg/OneDrive/Ayaz%20Lab/KernelFlow_Analysis/watch_analysis.ipynb#W1sZmlsZQ%3D%3D?line=88'>89</a>\u001b[0m end_ts \u001b[39m=\u001b[39m  ts_tuple[\u001b[39m1\u001b[39m]\n\u001b[1;32m---> <a href='vscode-notebook-cell:/c%3A/Users/zackg/OneDrive/Ayaz%20Lab/KernelFlow_Analysis/watch_analysis.ipynb#W1sZmlsZQ%3D%3D?line=89'>90</a>\u001b[0m block_start_idx \u001b[39m=\u001b[39m \u001b[39mself\u001b[39;49m\u001b[39m.\u001b[39;49mdata_fun\u001b[39m.\u001b[39;49mget_start_index_ts(df, start_ts)\n\u001b[0;32m     <a href='vscode-notebook-cell:/c%3A/Users/zackg/OneDrive/Ayaz%20Lab/KernelFlow_Analysis/watch_analysis.ipynb#W1sZmlsZQ%3D%3D?line=90'>91</a>\u001b[0m block_end_idx \u001b[39m=\u001b[39m \u001b[39mself\u001b[39m\u001b[39m.\u001b[39mdata_fun\u001b[39m.\u001b[39mget_end_index_ts(df, end_ts)\n\u001b[0;32m     <a href='vscode-notebook-cell:/c%3A/Users/zackg/OneDrive/Ayaz%20Lab/KernelFlow_Analysis/watch_analysis.ipynb#W1sZmlsZQ%3D%3D?line=91'>92</a>\u001b[0m col_list\u001b[39m.\u001b[39mappend(\u001b[39mself\u001b[39m\u001b[39m.\u001b[39mdata_fun\u001b[39m.\u001b[39mcreate_col(\u001b[39mNone\u001b[39;00m, block_start_idx))\n",
      "File \u001b[1;32mc:\\Users\\zackg\\OneDrive\\Ayaz Lab\\KernelFlow_Analysis\\behav_analysis.py:194\u001b[0m, in \u001b[0;36mData_Functions.get_start_index_ts\u001b[1;34m(self, df, start_ts)\u001b[0m\n\u001b[0;32m    191\u001b[0m         watch_start_ts \u001b[39m=\u001b[39m ts\n\u001b[0;32m    192\u001b[0m         \u001b[39mbreak\u001b[39;00m\n\u001b[1;32m--> 194\u001b[0m \u001b[39mreturn\u001b[39;00m loc\n",
      "\u001b[1;31mUnboundLocalError\u001b[0m: local variable 'loc' referenced before assignment"
     ]
    }
   ],
   "source": [
    "num_pars = 13\n",
    "create_watch_results_tables(num_pars=num_pars)"
   ]
  },
  {
   "cell_type": "code",
   "execution_count": 9,
   "metadata": {},
   "outputs": [
    {
     "name": "stderr",
     "output_type": "stream",
     "text": [
      "c:\\Users\\zackg\\OneDrive\\Ayaz Lab\\KernelFlow_Analysis\\behav_analysis.py:628: SettingWithCopyWarning: \n",
      "A value is trying to be set on a copy of a slice from a DataFrame\n",
      "\n",
      "See the caveats in the documentation: https://pandas.pydata.org/pandas-docs/stable/user_guide/indexing.html#returning-a-view-versus-a-copy\n",
      "  self.df_simp.drop(columns=[\"x_pos\", \"y_pos\"], inplace=True)\n",
      "c:\\Users\\zackg\\OneDrive\\Ayaz Lab\\KernelFlow_Analysis\\behav_analysis.py:138: FutureWarning: The default dtype for empty Series will be 'object' instead of 'float64' in a future version. Specify a dtype explicitly to silence this warning.\n",
      "  return pd.Series([x]*num_rows)\n",
      "c:\\Users\\zackg\\OneDrive\\Ayaz Lab\\KernelFlow_Analysis\\behav_analysis.py:138: FutureWarning: The default dtype for empty Series will be 'object' instead of 'float64' in a future version. Specify a dtype explicitly to silence this warning.\n",
      "  return pd.Series([x]*num_rows)\n"
     ]
    },
    {
     "name": "stdout",
     "output_type": "stream",
     "text": [
      "audio_narrative ACC\n",
      "audio_narrative BVP\n",
      "audio_narrative EDA\n",
      "audio_narrative HR\n",
      "audio_narrative IBI\n",
      "audio_narrative TEMP\n"
     ]
    },
    {
     "name": "stderr",
     "output_type": "stream",
     "text": [
      "c:\\Users\\zackg\\OneDrive\\Ayaz Lab\\KernelFlow_Analysis\\behav_analysis.py:138: FutureWarning: The default dtype for empty Series will be 'object' instead of 'float64' in a future version. Specify a dtype explicitly to silence this warning.\n",
      "  return pd.Series([x]*num_rows)\n",
      "c:\\Users\\zackg\\OneDrive\\Ayaz Lab\\KernelFlow_Analysis\\behav_analysis.py:138: FutureWarning: The default dtype for empty Series will be 'object' instead of 'float64' in a future version. Specify a dtype explicitly to silence this warning.\n",
      "  return pd.Series([x]*num_rows)\n"
     ]
    },
    {
     "name": "stdout",
     "output_type": "stream",
     "text": [
      "video_narrative_cmiyc ACC\n",
      "video_narrative_cmiyc BVP\n",
      "video_narrative_cmiyc EDA\n",
      "video_narrative_cmiyc HR\n",
      "video_narrative_cmiyc IBI\n",
      "video_narrative_cmiyc TEMP\n"
     ]
    },
    {
     "name": "stderr",
     "output_type": "stream",
     "text": [
      "c:\\Users\\zackg\\OneDrive\\Ayaz Lab\\KernelFlow_Analysis\\behav_analysis.py:138: FutureWarning: The default dtype for empty Series will be 'object' instead of 'float64' in a future version. Specify a dtype explicitly to silence this warning.\n",
      "  return pd.Series([x]*num_rows)\n",
      "c:\\Users\\zackg\\OneDrive\\Ayaz Lab\\KernelFlow_Analysis\\behav_analysis.py:138: FutureWarning: The default dtype for empty Series will be 'object' instead of 'float64' in a future version. Specify a dtype explicitly to silence this warning.\n",
      "  return pd.Series([x]*num_rows)\n"
     ]
    },
    {
     "name": "stdout",
     "output_type": "stream",
     "text": [
      "video_narrative_sherlock ACC\n",
      "video_narrative_sherlock BVP\n",
      "video_narrative_sherlock EDA\n",
      "video_narrative_sherlock HR\n",
      "video_narrative_sherlock IBI\n"
     ]
    },
    {
     "ename": "UnboundLocalError",
     "evalue": "local variable 'loc' referenced before assignment",
     "output_type": "error",
     "traceback": [
      "\u001b[1;31m---------------------------------------------------------------------------\u001b[0m",
      "\u001b[1;31mUnboundLocalError\u001b[0m                         Traceback (most recent call last)",
      "\u001b[1;32mc:\\Users\\zackg\\OneDrive\\Ayaz Lab\\KernelFlow_Analysis\\watch_analysis.ipynb Cell 3\u001b[0m in \u001b[0;36m<cell line: 2>\u001b[1;34m()\u001b[0m\n\u001b[0;32m      <a href='vscode-notebook-cell:/c%3A/Users/zackg/OneDrive/Ayaz%20Lab/KernelFlow_Analysis/watch_analysis.ipynb#W2sZmlsZQ%3D%3D?line=0'>1</a>\u001b[0m par_num \u001b[39m=\u001b[39m \u001b[39m\"\u001b[39m\u001b[39m08\u001b[39m\u001b[39m\"\u001b[39m\n\u001b[1;32m----> <a href='vscode-notebook-cell:/c%3A/Users/zackg/OneDrive/Ayaz%20Lab/KernelFlow_Analysis/watch_analysis.ipynb#W2sZmlsZQ%3D%3D?line=1'>2</a>\u001b[0m par \u001b[39m=\u001b[39m Participant_Watch(par_num\u001b[39m=\u001b[39;49mpar_num)\n",
      "\u001b[1;32mc:\\Users\\zackg\\OneDrive\\Ayaz Lab\\KernelFlow_Analysis\\watch_analysis.ipynb Cell 3\u001b[0m in \u001b[0;36mParticipant_Watch.__init__\u001b[1;34m(self, par_num)\u001b[0m\n\u001b[0;32m     <a href='vscode-notebook-cell:/c%3A/Users/zackg/OneDrive/Ayaz%20Lab/KernelFlow_Analysis/watch_analysis.ipynb#W2sZmlsZQ%3D%3D?line=19'>20</a>\u001b[0m \u001b[39mself\u001b[39m\u001b[39m.\u001b[39mmodality_df_dict \u001b[39m=\u001b[39m \u001b[39mself\u001b[39m\u001b[39m.\u001b[39m_create_modality_df_dict()\n\u001b[0;32m     <a href='vscode-notebook-cell:/c%3A/Users/zackg/OneDrive/Ayaz%20Lab/KernelFlow_Analysis/watch_analysis.ipynb#W2sZmlsZQ%3D%3D?line=20'>21</a>\u001b[0m \u001b[39mself\u001b[39m\u001b[39m.\u001b[39mmarker_ts_df \u001b[39m=\u001b[39m \u001b[39mself\u001b[39m\u001b[39m.\u001b[39mpar_behav\u001b[39m.\u001b[39mmarker_ts_df\n\u001b[1;32m---> <a href='vscode-notebook-cell:/c%3A/Users/zackg/OneDrive/Ayaz%20Lab/KernelFlow_Analysis/watch_analysis.ipynb#W2sZmlsZQ%3D%3D?line=21'>22</a>\u001b[0m \u001b[39mself\u001b[39m\u001b[39m.\u001b[39mexp_modality_data_dict \u001b[39m=\u001b[39m \u001b[39mself\u001b[39;49m\u001b[39m.\u001b[39;49m_create_exp_modality_dict()\n",
      "\u001b[1;32mc:\\Users\\zackg\\OneDrive\\Ayaz Lab\\KernelFlow_Analysis\\watch_analysis.ipynb Cell 3\u001b[0m in \u001b[0;36mParticipant_Watch._create_exp_modality_dict\u001b[1;34m(self)\u001b[0m\n\u001b[0;32m    <a href='vscode-notebook-cell:/c%3A/Users/zackg/OneDrive/Ayaz%20Lab/KernelFlow_Analysis/watch_analysis.ipynb#W2sZmlsZQ%3D%3D?line=132'>133</a>\u001b[0m     end_idx \u001b[39m=\u001b[39m \u001b[39mself\u001b[39m\u001b[39m.\u001b[39mdata_fun\u001b[39m.\u001b[39mget_end_index_dt(df\u001b[39m=\u001b[39m\u001b[39mself\u001b[39m\u001b[39m.\u001b[39mmodality_df_dict[modality], end_dt\u001b[39m=\u001b[39mend_dt)\n\u001b[0;32m    <a href='vscode-notebook-cell:/c%3A/Users/zackg/OneDrive/Ayaz%20Lab/KernelFlow_Analysis/watch_analysis.ipynb#W2sZmlsZQ%3D%3D?line=133'>134</a>\u001b[0m     modality_df_temp \u001b[39m=\u001b[39m \u001b[39mself\u001b[39m\u001b[39m.\u001b[39mmodality_df_dict[modality]\u001b[39m.\u001b[39miloc[start_idx:end_idx]\n\u001b[1;32m--> <a href='vscode-notebook-cell:/c%3A/Users/zackg/OneDrive/Ayaz%20Lab/KernelFlow_Analysis/watch_analysis.ipynb#W2sZmlsZQ%3D%3D?line=134'>135</a>\u001b[0m     modality_df \u001b[39m=\u001b[39m _add_block_col(exp_name\u001b[39m=\u001b[39;49mexp_name, modality\u001b[39m=\u001b[39;49mmodality, df\u001b[39m=\u001b[39;49mmodality_df_temp)\n\u001b[0;32m    <a href='vscode-notebook-cell:/c%3A/Users/zackg/OneDrive/Ayaz%20Lab/KernelFlow_Analysis/watch_analysis.ipynb#W2sZmlsZQ%3D%3D?line=135'>136</a>\u001b[0m     exp_modality_data_dict[modality] \u001b[39m=\u001b[39m modality_df\n\u001b[0;32m    <a href='vscode-notebook-cell:/c%3A/Users/zackg/OneDrive/Ayaz%20Lab/KernelFlow_Analysis/watch_analysis.ipynb#W2sZmlsZQ%3D%3D?line=136'>137</a>\u001b[0m exp_modality_dict[exp_name] \u001b[39m=\u001b[39m exp_modality_data_dict\n",
      "\u001b[1;32mc:\\Users\\zackg\\OneDrive\\Ayaz Lab\\KernelFlow_Analysis\\watch_analysis.ipynb Cell 3\u001b[0m in \u001b[0;36mParticipant_Watch._create_exp_modality_dict.<locals>._add_block_col\u001b[1;34m(exp_name, modality, df)\u001b[0m\n\u001b[0;32m     <a href='vscode-notebook-cell:/c%3A/Users/zackg/OneDrive/Ayaz%20Lab/KernelFlow_Analysis/watch_analysis.ipynb#W2sZmlsZQ%3D%3D?line=88'>89</a>\u001b[0m end_ts \u001b[39m=\u001b[39m  ts_tuple[\u001b[39m1\u001b[39m]\n\u001b[0;32m     <a href='vscode-notebook-cell:/c%3A/Users/zackg/OneDrive/Ayaz%20Lab/KernelFlow_Analysis/watch_analysis.ipynb#W2sZmlsZQ%3D%3D?line=89'>90</a>\u001b[0m \u001b[39mprint\u001b[39m(exp_name, modality)\n\u001b[1;32m---> <a href='vscode-notebook-cell:/c%3A/Users/zackg/OneDrive/Ayaz%20Lab/KernelFlow_Analysis/watch_analysis.ipynb#W2sZmlsZQ%3D%3D?line=90'>91</a>\u001b[0m block_start_idx \u001b[39m=\u001b[39m \u001b[39mself\u001b[39;49m\u001b[39m.\u001b[39;49mdata_fun\u001b[39m.\u001b[39;49mget_start_index_ts(df, start_ts)\n\u001b[0;32m     <a href='vscode-notebook-cell:/c%3A/Users/zackg/OneDrive/Ayaz%20Lab/KernelFlow_Analysis/watch_analysis.ipynb#W2sZmlsZQ%3D%3D?line=91'>92</a>\u001b[0m block_end_idx \u001b[39m=\u001b[39m \u001b[39mself\u001b[39m\u001b[39m.\u001b[39mdata_fun\u001b[39m.\u001b[39mget_end_index_ts(df, end_ts)\n\u001b[0;32m     <a href='vscode-notebook-cell:/c%3A/Users/zackg/OneDrive/Ayaz%20Lab/KernelFlow_Analysis/watch_analysis.ipynb#W2sZmlsZQ%3D%3D?line=92'>93</a>\u001b[0m col_list\u001b[39m.\u001b[39mappend(\u001b[39mself\u001b[39m\u001b[39m.\u001b[39mdata_fun\u001b[39m.\u001b[39mcreate_col(\u001b[39mNone\u001b[39;00m, block_start_idx))\n",
      "File \u001b[1;32mc:\\Users\\zackg\\OneDrive\\Ayaz Lab\\KernelFlow_Analysis\\behav_analysis.py:194\u001b[0m, in \u001b[0;36mData_Functions.get_start_index_ts\u001b[1;34m(self, df, start_ts)\u001b[0m\n\u001b[0;32m    191\u001b[0m         watch_start_ts \u001b[39m=\u001b[39m ts\n\u001b[0;32m    192\u001b[0m         \u001b[39mbreak\u001b[39;00m\n\u001b[1;32m--> 194\u001b[0m \u001b[39mreturn\u001b[39;00m loc\n",
      "\u001b[1;31mUnboundLocalError\u001b[0m: local variable 'loc' referenced before assignment"
     ]
    }
   ],
   "source": [
    "par_num = \"08\"\n",
    "par = Participant_Watch(par_num=par_num)\n",
    "# NOTE par # 8 video narrative sherlock temp missing"
   ]
  },
  {
   "cell_type": "code",
   "execution_count": null,
   "metadata": {},
   "outputs": [],
   "source": [
    "### Accelerometer ###\n",
    "par.plot_modality(\"ACC\")"
   ]
  },
  {
   "cell_type": "code",
   "execution_count": null,
   "metadata": {},
   "outputs": [],
   "source": [
    "### Photoplethysmograph ###\n",
    "par.plot_modality(\"BVP\")"
   ]
  },
  {
   "cell_type": "code",
   "execution_count": null,
   "metadata": {},
   "outputs": [],
   "source": [
    "### Electrodermal ###\n",
    "par.plot_modality(\"EDA\")"
   ]
  },
  {
   "cell_type": "code",
   "execution_count": null,
   "metadata": {},
   "outputs": [],
   "source": [
    "### Heart Rate ###\n",
    "par.plot_modality(\"HR\")"
   ]
  },
  {
   "cell_type": "code",
   "execution_count": null,
   "metadata": {},
   "outputs": [],
   "source": [
    "### Interbeat Interval ###\n",
    "par.plot_modality(\"IBI\")"
   ]
  },
  {
   "cell_type": "code",
   "execution_count": null,
   "metadata": {},
   "outputs": [],
   "source": [
    "### Temperature ###\n",
    "par.plot_modality(\"TEMP\")"
   ]
  },
  {
   "cell_type": "code",
   "execution_count": null,
   "metadata": {},
   "outputs": [],
   "source": []
  }
 ],
 "metadata": {
  "kernelspec": {
   "display_name": "Python 3.9.12 ('base')",
   "language": "python",
   "name": "python3"
  },
  "language_info": {
   "codemirror_mode": {
    "name": "ipython",
    "version": 3
   },
   "file_extension": ".py",
   "mimetype": "text/x-python",
   "name": "python",
   "nbconvert_exporter": "python",
   "pygments_lexer": "ipython3",
   "version": "3.9.12"
  },
  "orig_nbformat": 4,
  "vscode": {
   "interpreter": {
    "hash": "6dc7c3b5b3ed8bccdeb6381f95d0763ef1bb082ae76d136fc0c3d4673d6eca8b"
   }
  }
 },
 "nbformat": 4,
 "nbformat_minor": 2
}
