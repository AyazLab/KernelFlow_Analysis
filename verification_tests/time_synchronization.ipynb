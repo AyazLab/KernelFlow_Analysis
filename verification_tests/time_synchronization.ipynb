{
 "cells": [
  {
   "cell_type": "code",
   "execution_count": 1,
   "metadata": {},
   "outputs": [],
   "source": [
    "import os\n",
    "import datetime\n",
    "from statistics import mean, stdev\n",
    "proj_dir = os.path.dirname(os.getcwd())\n",
    "os.chdir(proj_dir)\n",
    "from flow_analysis import Participant_Flow"
   ]
  },
  {
   "cell_type": "code",
   "execution_count": 2,
   "metadata": {},
   "outputs": [
    {
     "name": "stdout",
     "output_type": "stream",
     "text": [
      "Experiment order: ['resting_state', 'go_no_go', 'video_narrative_sherlock', 'king_devick', 'vSAT', 'audio_narrative', 'n_back', 'tower_of_london', 'video_narrative_cmiyc']\n",
      "\n",
      "Experiment time origin: 2022-06-15 14:43:17.132986\n",
      "Start marker sent time: 11.6911\n",
      "Start marker sent time (absolute): 2022-06-15 14:43:28.824086\n",
      "Flow time origin: 2022-06-15 18:43:22\n",
      "\n",
      "Kernel marker data (original):\n",
      "     Timestamp    Duration  Value  Experiment\n",
      "0    19.105127  441.473551    1.0        51.0\n",
      "1  1120.861606  514.570869    1.0        81.0\n",
      "\n",
      "Kernel marker data (absolute):\n",
      "                           Marker  Start timestamp    Duration  End timestamp\n",
      "0             resting_state_start     1.655319e+09  441.473551   1.655319e+09\n",
      "1  video_narrative_sherlock_start     1.655320e+09  514.570869   1.655320e+09\n",
      "\n",
      "Time offset: 12.281 seconds\n",
      "\n",
      "Time difference:\n",
      "------------\n"
     ]
    },
    {
     "data": {
      "text/plain": [
       "{'resting_state': 12.281041622161865,\n",
       " 'go_no_go': 12.282827615737915,\n",
       " 'video_narrative_sherlock': 12.284613609313965,\n",
       " 'king_devick': 11.980223417282104,\n",
       " 'vSAT': 11.980556726455688,\n",
       " 'audio_narrative': 11.982890844345093,\n",
       " 'n_back': 12.57655382156372,\n",
       " 'tower_of_london': 12.580034732818604,\n",
       " 'video_narrative_cmiyc': 12.58246636390686,\n",
       " 'session_1001': 12.282827615737915,\n",
       " 'session_1002': 11.981223662694296,\n",
       " 'session_1003': 12.579684972763062}"
      ]
     },
     "execution_count": 2,
     "metadata": {},
     "output_type": "execute_result"
    }
   ],
   "source": [
    "par_num = 1\n",
    "par = Participant_Flow(par_num)\n",
    "\n",
    "# Kernel Flow PC - Cognitive Task PC\n",
    "\n",
    "print(f\"Experiment order: {par.par_behav.exp_order}\\n\")\n",
    "\n",
    "exp_name = \"resting_state\"\n",
    "exp = par.par_behav.get_exp(exp_name)\n",
    "exp_time_origin_ts = exp.start_ts\n",
    "exp_time_origin_dt = datetime.datetime.fromtimestamp(exp_time_origin_ts)  # behav data filename and exp start marker timestamp\n",
    "print(f\"Experiment time origin: {exp_time_origin_dt}\")\n",
    "start_marker_sent_time = float(exp.marker_data[\"start_marker\"][\"sent_time\"])\n",
    "print(f\"Start marker sent time: {start_marker_sent_time}\")\n",
    "start_marker_sent_time_abs = exp_time_origin_dt + datetime.timedelta(seconds=start_marker_sent_time)\n",
    "print(f\"Start marker sent time (absolute): {start_marker_sent_time_abs}\")\n",
    "\n",
    "# The behavioral start marker sent time (absolute) and \n",
    "# kernel start marker receive time (absolute) should be identical.\n",
    "\n",
    "flow_time_origin = par.flow_session_dict[\"session_1001\"].get_time_origin(offset=False)\n",
    "print(f\"Flow time origin: {flow_time_origin}\\n\")\n",
    "session = par.par_behav.get_key_from_value(par.par_behav.session_dict, exp_name)\n",
    "marker_df = par.flow_session_dict[session].get_marker_df()\n",
    "print(f\"Kernel marker data (original):\\n{marker_df}\\n\")\n",
    "marker_df_abs = par.create_abs_marker_df(session)\n",
    "print(f\"Kernel marker data (absolute):\\n{marker_df_abs}\")\n",
    "\n",
    "row = marker_df_abs.loc[marker_df_abs[\"Marker\"].str.startswith(exp_name)].reset_index()\n",
    "kernel_start_marker_ts = row.loc[0, \"Start timestamp\"]\n",
    "time_offset = kernel_start_marker_ts - (exp_time_origin_ts + start_marker_sent_time)\n",
    "print(f\"\\nTime offset: {round(time_offset, 3)} seconds\\n\")\n",
    "\n",
    "par_num = 1\n",
    "par = Participant_Flow(par_num)\n",
    "time_offset_list = []\n",
    "print(\"Time difference:\\n------------\")\n",
    "par.time_offset_dict"
   ]
  },
  {
   "cell_type": "code",
   "execution_count": 5,
   "metadata": {},
   "outputs": [
    {
     "name": "stdout",
     "output_type": "stream",
     "text": [
      "Min: 0.15 milliseconds\n",
      "Max: 1.85 milliseconds\n",
      "Mean: 0.72 ± 0.57 milliseconds\n"
     ]
    }
   ],
   "source": [
    "num_pars = 15\n",
    "time_diff_list = []\n",
    "for i in range(num_pars):\n",
    "    par_num = 1 + 1\n",
    "    par = Participant_Flow(par_num + 1)\n",
    "    for session, exp_list in par.par_behav.session_dict.items():\n",
    "        for exp_name in exp_list:\n",
    "            if exp_name.startswith(\"session_\"):\n",
    "                continue\n",
    "            elif exp_name == \"go_no_go\":\n",
    "                continue\n",
    "            session_number = int(session.split(\"_\")[1])\n",
    "            session_time = par.time_offset_dict[\"session_\" + str(session_number)]\n",
    "            experiment_time = par.time_offset_dict[exp_name]\n",
    "            time_diff = abs(experiment_time - session_time)\n",
    "            time_diff_list.append(time_diff)\n",
    "\n",
    "print(f\"Min: {round(min(time_diff_list) * 1e3, 2)} milliseconds\")\n",
    "print(f\"Max: {round(max(time_diff_list) * 1e3, 2)} milliseconds\")\n",
    "print(f\"Mean: {round(mean(time_diff_list) * 1e3, 2)} ± {round(stdev(time_diff_list) * 1e3, 2)} milliseconds\")"
   ]
  }
 ],
 "metadata": {
  "kernelspec": {
   "display_name": "Python 3",
   "language": "python",
   "name": "python3"
  },
  "language_info": {
   "codemirror_mode": {
    "name": "ipython",
    "version": 3
   },
   "file_extension": ".py",
   "mimetype": "text/x-python",
   "name": "python",
   "nbconvert_exporter": "python",
   "pygments_lexer": "ipython3",
   "version": "3.10.11"
  },
  "orig_nbformat": 4
 },
 "nbformat": 4,
 "nbformat_minor": 2
}
