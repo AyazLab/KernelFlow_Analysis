{
 "cells": [
  {
   "cell_type": "code",
   "execution_count": 1,
   "metadata": {},
   "outputs": [],
   "source": [
    "def handedness(R, L):\n",
    "    LQ = 100*(sum(R)-sum(L))/(sum(R)+sum(L))\n",
    "\n",
    "    if LQ > 0:\n",
    "        if LQ <= 48:\n",
    "            decile = 1\n",
    "        if LQ > 48 and LQ <= 60:\n",
    "            decile = 2\n",
    "        elif LQ > 60 and LQ <= 68:\n",
    "            decile = 3\n",
    "        elif LQ > 68 and LQ <= 74:\n",
    "            decile = 4\n",
    "        elif LQ > 74 and LQ <= 80:\n",
    "            decile = 5\n",
    "        elif LQ > 80 and LQ <= 84:\n",
    "            decile = 6\n",
    "        elif LQ > 84 and LQ <= 88:\n",
    "            decile = 7\n",
    "        elif LQ > 88 and LQ <= 92:\n",
    "            decile = 8\n",
    "        elif LQ > 92 and LQ <= 95:\n",
    "            decile = 9\n",
    "        elif LQ > 95 and LQ <= 100:\n",
    "            decile = 10\n",
    "    elif LQ < 0:\n",
    "        if LQ >= -28:\n",
    "            decile = 1\n",
    "        if LQ < -28 and LQ >= -42:\n",
    "            decile = 2\n",
    "        elif LQ < -42 and LQ >= -54:\n",
    "            decile = 3\n",
    "        elif LQ < -54 and LQ >= -66:\n",
    "            decile = 4\n",
    "        elif LQ < -66 and LQ >= -76:\n",
    "            decile = 5\n",
    "        elif LQ < -76 and LQ >= -83:\n",
    "            decile = 6\n",
    "        elif LQ < -83 and LQ >= -87:\n",
    "            decile = 7\n",
    "        elif LQ < -87 and LQ >= -90:\n",
    "            decile = 8\n",
    "        elif LQ < -90 and LQ >= -92:\n",
    "            decile = 9\n",
    "        elif LQ < -92 and LQ >= -100:\n",
    "            decile = 10\n",
    "\n",
    "    print(\"LQ:\", LQ, \"\\nDecile:\", decile)"
   ]
  },
  {
   "cell_type": "code",
   "execution_count": 2,
   "metadata": {},
   "outputs": [
    {
     "name": "stdout",
     "output_type": "stream",
     "text": [
      "LQ: 88.23529411764706 \n",
      "Decile: 8\n"
     ]
    }
   ],
   "source": [
    "R = [16]  # value or list of values\n",
    "L = [1]   # value or list of values\n",
    "handedness(R, L)"
   ]
  },
  {
   "cell_type": "code",
   "execution_count": null,
   "metadata": {},
   "outputs": [],
   "source": []
  }
 ],
 "metadata": {
  "kernelspec": {
   "display_name": "Python 3.10.6 64-bit (microsoft store)",
   "language": "python",
   "name": "python3"
  },
  "language_info": {
   "codemirror_mode": {
    "name": "ipython",
    "version": 3
   },
   "file_extension": ".py",
   "mimetype": "text/x-python",
   "name": "python",
   "nbconvert_exporter": "python",
   "pygments_lexer": "ipython3",
   "version": "3.10.8"
  },
  "orig_nbformat": 4,
  "vscode": {
   "interpreter": {
    "hash": "d9c1e24752b3065052c27c07c0a22748a6118d05dd89b50e77c79e7ce74e5970"
   }
  }
 },
 "nbformat": 4,
 "nbformat_minor": 2
}
